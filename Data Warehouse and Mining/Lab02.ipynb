{
 "cells": [
  {
   "cell_type": "code",
   "execution_count": 6,
   "id": "293d167f-a719-465c-b4cd-d3b53e9c60a3",
   "metadata": {},
   "outputs": [
    {
     "name": "stdout",
     "output_type": "stream",
     "text": [
      "Original Data:\n",
      "       Name     Age   Salary Department    JoinDate\n",
      "0  Malika       29  50000.0         IT   1/15/2020\n",
      "1   Anjana      22  62000.0         HR   7/23/2019\n",
      "2   Lokesh      31      NaN         IT  11/10/2018\n",
      "3   Fauda       29  50000.0         IT   1/15/2020\n",
      "4  Manisha      25  58000.0    Finance         NaN\n",
      "5      NaN      34  72000.0  Marketing    3/5/2021\n",
      "6    Rajat  thirty  65000.0         HR   6/17/2020\n",
      "\n",
      "Cleaned Data:\n",
      "       Name        Age   Salary    JoinDate  Salary_Normalized  Department_HR  \\\n",
      "0  Malika   29.000000  50000.0   1/15/2020           0.000000          False   \n",
      "1   Anjana  22.000000  62000.0   7/23/2019           0.545455           True   \n",
      "2   Lokesh  31.000000  60000.0  11/10/2018           0.454545          False   \n",
      "3   Fauda   29.000000  50000.0   1/15/2020           0.000000          False   \n",
      "4  Manisha  25.000000  58000.0   1/15/2020           0.363636          False   \n",
      "5  Unknown  34.000000  72000.0    3/5/2021           1.000000          False   \n",
      "6    Rajat  28.333333  65000.0   6/17/2020           0.681818           True   \n",
      "\n",
      "   Department_IT  Department_Marketing  \n",
      "0           True                 False  \n",
      "1          False                 False  \n",
      "2           True                 False  \n",
      "3           True                 False  \n",
      "4          False                 False  \n",
      "5          False                  True  \n",
      "6          False                 False  \n"
     ]
    },
    {
     "name": "stderr",
     "output_type": "stream",
     "text": [
      "C:\\Users\\Nitro\\AppData\\Local\\Temp\\ipykernel_19824\\1377234349.py:13: FutureWarning: Series.fillna with 'method' is deprecated and will raise in a future version. Use obj.ffill() or obj.bfill() instead.\n",
      "  df['JoinDate'].fillna(method='ffill', inplace=True)  # Forward-fill JoinDate\n"
     ]
    }
   ],
   "source": [
    "import pandas as pd\n",
    "import numpy as np\n",
    "\n",
    "df = pd.read_csv(\"data.csv\")\n",
    "\n",
    "print(\"Original Data:\\n\", df)\n",
    "\n",
    "\n",
    "df['Age'] = pd.to_numeric(df['Age'], errors='coerce')\n",
    "\n",
    "df['Age'].fillna(df['Age'].mean(), inplace=True)  # Replace missing/invalid age with mean\n",
    "df['Salary'].fillna(df['Salary'].median(), inplace=True)  # Replace missing salary with median\n",
    "df['JoinDate'].fillna(method='ffill', inplace=True)  # Forward-fill JoinDate\n",
    "df['Name'].fillna('Unknown', inplace=True)  # Replace missing names\n",
    "\n",
    "df.drop_duplicates(inplace=True)\n",
    "\n",
    "\n",
    "df['Salary_Normalized'] = (df['Salary'] - df['Salary'].min()) / (df['Salary'].max() - df['Salary'].min())\n",
    "\n",
    "df = pd.get_dummies(df, columns=['Department'], drop_first=True)\n",
    "\n",
    "print(\"\\nCleaned Data:\\n\", df)\n",
    "\n",
    "df.to_csv(\"cleaned_data.csv\", index=False)\n"
   ]
  },
  {
   "cell_type": "code",
   "execution_count": null,
   "id": "50ff36d6-bef9-4c0d-acc8-d6233af99d99",
   "metadata": {},
   "outputs": [],
   "source": []
  }
 ],
 "metadata": {
  "kernelspec": {
   "display_name": "Python 3 (ipykernel)",
   "language": "python",
   "name": "python3"
  },
  "language_info": {
   "codemirror_mode": {
    "name": "ipython",
    "version": 3
   },
   "file_extension": ".py",
   "mimetype": "text/x-python",
   "name": "python",
   "nbconvert_exporter": "python",
   "pygments_lexer": "ipython3",
   "version": "3.12.4"
  },
  "widgets": {
   "application/vnd.jupyter.widget-state+json": {
    "state": {},
    "version_major": 2,
    "version_minor": 0
   }
  }
 },
 "nbformat": 4,
 "nbformat_minor": 5
}
