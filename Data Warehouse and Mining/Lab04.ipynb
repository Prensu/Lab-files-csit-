{
 "cells": [
  {
   "cell_type": "code",
   "execution_count": 1,
   "id": "332658ab-463d-4bcf-af29-63c056497fc5",
   "metadata": {},
   "outputs": [
    {
     "name": "stdout",
     "output_type": "stream",
     "text": [
      "\n",
      "🧾 Transaction Matrix (Nepali Items):\n",
      "\n",
      "  chowmein gundruk momo sel roti\n",
      "0        ✅       ✅    ✅        ✅\n",
      "1        ✅       ❌    ✅        ✅\n",
      "2        ✅       ❌    ✅        ❌\n",
      "3        ❌       ✅    ✅        ❌\n",
      "4        ❌       ✅    ❌        ✅\n",
      "\n",
      "📦 Frequent Itemsets (Support ≥ 0.5):\n",
      "\n",
      " support         itemsets\n",
      "     0.8           (momo)\n",
      "     0.6       (sel roti)\n",
      "     0.6        (gundruk)\n",
      "     0.6       (chowmein)\n",
      "     0.6 (chowmein, momo)\n",
      "\n",
      "📊 Association Rules (Confidence ≥ 0.6):\n",
      "\n",
      "antecedents consequents  support  confidence  lift\n",
      "   chowmein        momo      0.6        1.00  1.25\n",
      "       momo    chowmein      0.6        0.75  1.25\n"
     ]
    }
   ],
   "source": [
    "import pandas as pd\n",
    "from mlxtend.preprocessing import TransactionEncoder\n",
    "from mlxtend.frequent_patterns import fpgrowth, association_rules\n",
    "\n",
    "# 🧺 Nepali market basket data\n",
    "nepali_dataset = [\n",
    "    ['momo', 'chowmein', 'sel roti', 'gundruk'],\n",
    "    ['momo', 'chowmein', 'sel roti'],\n",
    "    ['momo', 'chowmein'],\n",
    "    ['momo', 'gundruk'],\n",
    "    ['sel roti', 'gundruk']\n",
    "]\n",
    "\n",
    "# 🎛️ One-hot encode the dataset\n",
    "te = TransactionEncoder()\n",
    "te_array = te.fit(nepali_dataset).transform(nepali_dataset)\n",
    "df = pd.DataFrame(te_array, columns=te.columns_)\n",
    "\n",
    "# 🧾 Display Transaction Matrix\n",
    "print(\"\\n🧾 Transaction Matrix (Nepali Items):\\n\")\n",
    "print(df.replace({True: '✅', False: '❌'}).to_string(index=True))\n",
    "\n",
    "# 🌱 Apply FP-Growth algorithm\n",
    "frequent_itemsets = fpgrowth(df, min_support=0.5, use_colnames=True)\n",
    "\n",
    "# 📦 Display frequent itemsets\n",
    "print(\"\\n📦 Frequent Itemsets (Support ≥ 0.5):\\n\")\n",
    "print(frequent_itemsets.sort_values(by='support', ascending=False).to_string(index=False))\n",
    "\n",
    "# 📊 Generate and display association rules\n",
    "rules = association_rules(frequent_itemsets, metric=\"confidence\", min_threshold=0.6)\n",
    "\n",
    "if not rules.empty:\n",
    "    rules_display = rules[['antecedents', 'consequents', 'support', 'confidence', 'lift']].copy()\n",
    "    rules_display['antecedents'] = rules_display['antecedents'].apply(lambda x: ', '.join(x))\n",
    "    rules_display['consequents'] = rules_display['consequents'].apply(lambda x: ', '.join(x))\n",
    "    \n",
    "    print(\"\\n📊 Association Rules (Confidence ≥ 0.6):\\n\")\n",
    "    print(rules_display.sort_values(by='confidence', ascending=False).to_string(index=False))\n",
    "else:\n",
    "    print(\"\\n📊 No association rules found with the given thresholds.\")\n"
   ]
  },
  {
   "cell_type": "code",
   "execution_count": null,
   "id": "cd8a6926-a21d-452d-b104-baa58af4245b",
   "metadata": {},
   "outputs": [],
   "source": []
  }
 ],
 "metadata": {
  "kernelspec": {
   "display_name": "Python 3 (ipykernel)",
   "language": "python",
   "name": "python3"
  },
  "language_info": {
   "codemirror_mode": {
    "name": "ipython",
    "version": 3
   },
   "file_extension": ".py",
   "mimetype": "text/x-python",
   "name": "python",
   "nbconvert_exporter": "python",
   "pygments_lexer": "ipython3",
   "version": "3.12.4"
  },
  "widgets": {
   "application/vnd.jupyter.widget-state+json": {
    "state": {},
    "version_major": 2,
    "version_minor": 0
   }
  }
 },
 "nbformat": 4,
 "nbformat_minor": 5
}
